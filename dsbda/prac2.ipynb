{
 "cells": [
  {
   "cell_type": "code",
   "execution_count": 2,
   "id": "12888779-0dd4-4126-b898-b9fafa307ac4",
   "metadata": {},
   "outputs": [],
   "source": [
    "import pandas as pd\n",
    "import opendatasets as od\n",
    "import matplotlib.pylab as plt\n",
    "import numpy as np"
   ]
  },
  {
   "cell_type": "code",
   "execution_count": 3,
   "id": "1d337c29-6099-4764-a80c-7d61d06fffe6",
   "metadata": {},
   "outputs": [
    {
     "name": "stdout",
     "output_type": "stream",
     "text": [
      "Please provide your Kaggle credentials to download this dataset. Learn more: http://bit.ly/kaggle-creds\n",
      "Your Kaggle username:"
     ]
    },
    {
     "name": "stdin",
     "output_type": "stream",
     "text": [
      "  cm5i37shoeb\n"
     ]
    },
    {
     "name": "stdout",
     "output_type": "stream",
     "text": [
      "Your Kaggle Key:"
     ]
    },
    {
     "name": "stdin",
     "output_type": "stream",
     "text": [
      "  ········\n"
     ]
    },
    {
     "name": "stdout",
     "output_type": "stream",
     "text": [
      "Dataset URL: https://www.kaggle.com/datasets/sankha1998/student-semester-result\n",
      "Downloading student-semester-result.zip to .\\student-semester-result\n"
     ]
    },
    {
     "name": "stderr",
     "output_type": "stream",
     "text": [
      "100%|████████████████████████████████████████████████████████████| 2.41k/2.41k [00:00<00:00, 709kB/s]"
     ]
    },
    {
     "name": "stdout",
     "output_type": "stream",
     "text": [
      "\n"
     ]
    },
    {
     "name": "stderr",
     "output_type": "stream",
     "text": [
      "\n"
     ]
    }
   ],
   "source": [
    "od.download(\"https://www.kaggle.com/datasets/sankha1998/student-semester-result\")"
   ]
  },
  {
   "cell_type": "code",
   "execution_count": 4,
   "id": "388a1781-a37c-4c4c-a2df-81ed180df4d9",
   "metadata": {},
   "outputs": [],
   "source": [
    "df=pd.read_csv(\"student-semester-result/data.csv\")"
   ]
  },
  {
   "cell_type": "code",
   "execution_count": 5,
   "id": "690711b5-2bb1-4b58-9994-47a9accec9d5",
   "metadata": {},
   "outputs": [
    {
     "name": "stdout",
     "output_type": "stream",
     "text": [
      "      1st   2nd   3rd   4th   5th  College Code  Gender     Roll  Roll no.  \\\n",
      "0    8.11  7.68  7.11  7.43  8.18           115  Female      NaN   17020.0   \n",
      "1    6.48  5.90  4.15  4.29  4.96           115    Male      NaN   17021.0   \n",
      "2    8.41  8.24  7.52  8.25  7.75           115  Female      NaN   17022.0   \n",
      "3    7.33  6.83  6.33  6.79  6.89           115    Male      NaN   17023.0   \n",
      "4    7.89  7.34  7.22  7.32  7.46           115    Male      NaN   17024.0   \n",
      "..    ...   ...   ...   ...   ...           ...     ...      ...       ...   \n",
      "173  7.48  7.55  7.67  7.39  8.65           241       F  17048.0       NaN   \n",
      "174  7.30  6.41  6.59  7.11  7.38           241       M  17049.0       NaN   \n",
      "175  6.30  6.28  5.89  5.71  6.50           241       M  17050.0       NaN   \n",
      "176  7.04  7.10  6.81  7.00  6.92           241       M  17051.0       NaN   \n",
      "177  6.70  6.81  6.52  5.39  7.00           241       M  17052.0       NaN   \n",
      "\n",
      "     Subject Code  \n",
      "0              16  \n",
      "1              16  \n",
      "2              16  \n",
      "3              16  \n",
      "4              16  \n",
      "..            ...  \n",
      "173            28  \n",
      "174            28  \n",
      "175            28  \n",
      "176            28  \n",
      "177            28  \n",
      "\n",
      "[178 rows x 10 columns]\n"
     ]
    }
   ],
   "source": [
    "print(df)"
   ]
  },
  {
   "cell_type": "code",
   "execution_count": 6,
   "id": "e59d19b1-d03d-47d3-88de-c5534bea5ab8",
   "metadata": {},
   "outputs": [
    {
     "name": "stdout",
     "output_type": "stream",
     "text": [
      "<class 'pandas.core.frame.DataFrame'>\n",
      "RangeIndex: 178 entries, 0 to 177\n",
      "Data columns (total 10 columns):\n",
      " #   Column        Non-Null Count  Dtype  \n",
      "---  ------        --------------  -----  \n",
      " 0   1st           176 non-null    float64\n",
      " 1   2nd           174 non-null    float64\n",
      " 2   3rd           176 non-null    float64\n",
      " 3   4th           173 non-null    float64\n",
      " 4   5th           172 non-null    float64\n",
      " 5   College Code  178 non-null    int64  \n",
      " 6   Gender        177 non-null    object \n",
      " 7   Roll          132 non-null    float64\n",
      " 8   Roll no.      46 non-null     float64\n",
      " 9   Subject Code  178 non-null    int64  \n",
      "dtypes: float64(7), int64(2), object(1)\n",
      "memory usage: 14.0+ KB\n"
     ]
    }
   ],
   "source": [
    "df.info()"
   ]
  },
  {
   "cell_type": "code",
   "execution_count": 7,
   "id": "fc82e27a-9e62-41c8-bc29-9c5cfe12a40a",
   "metadata": {},
   "outputs": [
    {
     "data": {
      "text/plain": [
       "1st               2\n",
       "2nd               4\n",
       "3rd               2\n",
       "4th               5\n",
       "5th               6\n",
       "College Code      0\n",
       "Gender            1\n",
       "Roll             46\n",
       "Roll no.        132\n",
       "Subject Code      0\n",
       "dtype: int64"
      ]
     },
     "execution_count": 7,
     "metadata": {},
     "output_type": "execute_result"
    }
   ],
   "source": [
    "df.isnull().sum()"
   ]
  },
  {
   "cell_type": "code",
   "execution_count": 8,
   "id": "07bf9e88-fe8a-439c-a686-e33e2648ec4d",
   "metadata": {},
   "outputs": [],
   "source": [
    "avg1_marks=df[\"1st\"].astype(\"float64\").mean(axis=0)\n",
    "avg2_marks=df[\"2nd\"].astype(\"float64\").mean(axis=0)\n",
    "avg3_marks=df[\"3rd\"].astype(\"float64\").mean(axis=0)\n",
    "avg4_marks=df[\"4th\"].astype(\"float64\").mean(axis=0)\n",
    "avg5_marks=df[\"5th\"].astype(\"float64\").mean(axis=0)"
   ]
  },
  {
   "cell_type": "code",
   "execution_count": 9,
   "id": "ebb689c7-03ef-4b72-bbd1-26fd17c4f11d",
   "metadata": {},
   "outputs": [
    {
     "name": "stdout",
     "output_type": "stream",
     "text": [
      "avg of 1st marks 7.038863636363637\n",
      "avg of 2nd marks 6.943390804597701\n",
      "avg of 3rd marks 6.6225\n",
      "avg of 4th marks 7.027745664739886\n",
      "avg of 5th marks 7.432558139534884\n"
     ]
    }
   ],
   "source": [
    "print(\"avg of 1st marks\",avg1_marks)\n",
    "print(\"avg of 2nd marks\",avg2_marks)\n",
    "print(\"avg of 3rd marks\",avg3_marks)\n",
    "print(\"avg of 4th marks\",avg4_marks)\n",
    "print(\"avg of 5th marks\",avg5_marks)"
   ]
  },
  {
   "cell_type": "code",
   "execution_count": 10,
   "id": "368ba04a-6712-40be-a351-bc68beb6b1b2",
   "metadata": {},
   "outputs": [
    {
     "name": "stderr",
     "output_type": "stream",
     "text": [
      "C:\\Users\\shoai\\AppData\\Local\\Temp\\ipykernel_13192\\209068612.py:1: FutureWarning: A value is trying to be set on a copy of a DataFrame or Series through chained assignment using an inplace method.\n",
      "The behavior will change in pandas 3.0. This inplace method will never work because the intermediate object on which we are setting values always behaves as a copy.\n",
      "\n",
      "For example, when doing 'df[col].method(value, inplace=True)', try using 'df.method({col: value}, inplace=True)' or df[col] = df[col].method(value) instead, to perform the operation inplace on the original object.\n",
      "\n",
      "\n",
      "  df[\"1st\"].replace(np.nan,avg1_marks,inplace=True)\n",
      "C:\\Users\\shoai\\AppData\\Local\\Temp\\ipykernel_13192\\209068612.py:2: FutureWarning: A value is trying to be set on a copy of a DataFrame or Series through chained assignment using an inplace method.\n",
      "The behavior will change in pandas 3.0. This inplace method will never work because the intermediate object on which we are setting values always behaves as a copy.\n",
      "\n",
      "For example, when doing 'df[col].method(value, inplace=True)', try using 'df.method({col: value}, inplace=True)' or df[col] = df[col].method(value) instead, to perform the operation inplace on the original object.\n",
      "\n",
      "\n",
      "  df[\"2nd\"].replace(np.nan,avg2_marks,inplace=True)\n",
      "C:\\Users\\shoai\\AppData\\Local\\Temp\\ipykernel_13192\\209068612.py:3: FutureWarning: A value is trying to be set on a copy of a DataFrame or Series through chained assignment using an inplace method.\n",
      "The behavior will change in pandas 3.0. This inplace method will never work because the intermediate object on which we are setting values always behaves as a copy.\n",
      "\n",
      "For example, when doing 'df[col].method(value, inplace=True)', try using 'df.method({col: value}, inplace=True)' or df[col] = df[col].method(value) instead, to perform the operation inplace on the original object.\n",
      "\n",
      "\n",
      "  df[\"3rd\"].replace(np.nan,avg3_marks,inplace=True)\n",
      "C:\\Users\\shoai\\AppData\\Local\\Temp\\ipykernel_13192\\209068612.py:4: FutureWarning: A value is trying to be set on a copy of a DataFrame or Series through chained assignment using an inplace method.\n",
      "The behavior will change in pandas 3.0. This inplace method will never work because the intermediate object on which we are setting values always behaves as a copy.\n",
      "\n",
      "For example, when doing 'df[col].method(value, inplace=True)', try using 'df.method({col: value}, inplace=True)' or df[col] = df[col].method(value) instead, to perform the operation inplace on the original object.\n",
      "\n",
      "\n",
      "  df[\"4th\"].replace(np.nan,avg4_marks,inplace=True)\n",
      "C:\\Users\\shoai\\AppData\\Local\\Temp\\ipykernel_13192\\209068612.py:5: FutureWarning: A value is trying to be set on a copy of a DataFrame or Series through chained assignment using an inplace method.\n",
      "The behavior will change in pandas 3.0. This inplace method will never work because the intermediate object on which we are setting values always behaves as a copy.\n",
      "\n",
      "For example, when doing 'df[col].method(value, inplace=True)', try using 'df.method({col: value}, inplace=True)' or df[col] = df[col].method(value) instead, to perform the operation inplace on the original object.\n",
      "\n",
      "\n",
      "  df[\"5th\"].replace(np.nan,avg5_marks,inplace=True)\n"
     ]
    }
   ],
   "source": [
    "df[\"1st\"].replace(np.nan,avg1_marks,inplace=True)\n",
    "df[\"2nd\"].replace(np.nan,avg2_marks,inplace=True)\n",
    "df[\"3rd\"].replace(np.nan,avg3_marks,inplace=True)\n",
    "df[\"4th\"].replace(np.nan,avg4_marks,inplace=True)\n",
    "df[\"5th\"].replace(np.nan,avg5_marks,inplace=True)"
   ]
  },
  {
   "cell_type": "code",
   "execution_count": 11,
   "id": "fc93fedf-efda-4262-9183-9376b76340c6",
   "metadata": {},
   "outputs": [
    {
     "data": {
      "text/plain": [
       "1st               0\n",
       "2nd               0\n",
       "3rd               0\n",
       "4th               0\n",
       "5th               0\n",
       "College Code      0\n",
       "Gender            1\n",
       "Roll             46\n",
       "Roll no.        132\n",
       "Subject Code      0\n",
       "dtype: int64"
      ]
     },
     "execution_count": 11,
     "metadata": {},
     "output_type": "execute_result"
    }
   ],
   "source": [
    "df.isnull().sum()"
   ]
  },
  {
   "cell_type": "code",
   "execution_count": 12,
   "id": "a5fe3911-d790-406b-95ac-b62fdd71e660",
   "metadata": {},
   "outputs": [],
   "source": [
    "max_1st=df['1st'].max()\n",
    "max_2nd=df['2nd'].max()\n",
    "max_3rd=df['3rd'].max()\n",
    "max_4th=df['4th'].max()\n",
    "max_5th=df['5th'].max()"
   ]
  },
  {
   "cell_type": "code",
   "execution_count": 13,
   "id": "9a33242e-ea28-4fce-b42d-9906a817d31b",
   "metadata": {},
   "outputs": [
    {
     "name": "stdout",
     "output_type": "stream",
     "text": [
      "9.15 9.21 9.59 9.31 9.46\n"
     ]
    }
   ],
   "source": [
    "print(max_1st,max_2nd,max_3rd,max_4th,max_5th)"
   ]
  },
  {
   "cell_type": "code",
   "execution_count": 14,
   "id": "0aaa761a-7aed-43ba-b18a-70ca3cb310e9",
   "metadata": {},
   "outputs": [],
   "source": [
    "cgpa_col=['1st','2nd','3rd','4th','5th']\n",
    "max_values=[max_1st,max_2nd,max_3rd,max_4th,max_5th]"
   ]
  },
  {
   "cell_type": "code",
   "execution_count": 15,
   "id": "37b91b3b-d312-4ad5-94a3-cb285e2e09ed",
   "metadata": {},
   "outputs": [],
   "source": [
    "for col,max_value in zip(cgpa_col,max_values):\n",
    "    df[col +'_Percentage']=(df[col]/max_value)*100"
   ]
  },
  {
   "cell_type": "code",
   "execution_count": 16,
   "id": "a6b34dfa-a304-4f04-916a-da9ab956d51f",
   "metadata": {},
   "outputs": [
    {
     "name": "stdout",
     "output_type": "stream",
     "text": [
      "      1st   2nd   3rd   4th   5th  College Code  Gender     Roll  Roll no.  \\\n",
      "0    8.11  7.68  7.11  7.43  8.18           115  Female      NaN   17020.0   \n",
      "1    6.48  5.90  4.15  4.29  4.96           115    Male      NaN   17021.0   \n",
      "2    8.41  8.24  7.52  8.25  7.75           115  Female      NaN   17022.0   \n",
      "3    7.33  6.83  6.33  6.79  6.89           115    Male      NaN   17023.0   \n",
      "4    7.89  7.34  7.22  7.32  7.46           115    Male      NaN   17024.0   \n",
      "..    ...   ...   ...   ...   ...           ...     ...      ...       ...   \n",
      "173  7.48  7.55  7.67  7.39  8.65           241       F  17048.0       NaN   \n",
      "174  7.30  6.41  6.59  7.11  7.38           241       M  17049.0       NaN   \n",
      "175  6.30  6.28  5.89  5.71  6.50           241       M  17050.0       NaN   \n",
      "176  7.04  7.10  6.81  7.00  6.92           241       M  17051.0       NaN   \n",
      "177  6.70  6.81  6.52  5.39  7.00           241       M  17052.0       NaN   \n",
      "\n",
      "     Subject Code  1st_Percentage  2nd_Percentage  3rd_Percentage  \\\n",
      "0              16       88.633880       83.387622       74.139729   \n",
      "1              16       70.819672       64.060803       43.274244   \n",
      "2              16       91.912568       89.467970       78.415016   \n",
      "3              16       80.109290       74.158523       66.006257   \n",
      "4              16       86.229508       79.695983       75.286757   \n",
      "..            ...             ...             ...             ...   \n",
      "173            28       81.748634       81.976113       79.979145   \n",
      "174            28       79.781421       69.598263       68.717414   \n",
      "175            28       68.852459       68.186754       61.418144   \n",
      "176            28       76.939891       77.090119       71.011470   \n",
      "177            28       73.224044       73.941368       67.987487   \n",
      "\n",
      "     4th_Percentage  5th_Percentage  \n",
      "0         79.806660       86.469345  \n",
      "1         46.079484       52.431290  \n",
      "2         88.614393       81.923890  \n",
      "3         72.932331       72.832981  \n",
      "4         78.625134       78.858351  \n",
      "..              ...             ...  \n",
      "173       79.377014       91.437632  \n",
      "174       76.369495       78.012685  \n",
      "175       61.331901       68.710359  \n",
      "176       75.187970       73.150106  \n",
      "177       57.894737       73.995772  \n",
      "\n",
      "[178 rows x 15 columns]\n"
     ]
    }
   ],
   "source": [
    "print(df)"
   ]
  },
  {
   "cell_type": "code",
   "execution_count": null,
   "id": "84b2080a-3d7f-4cce-a7da-8a54b78cb179",
   "metadata": {},
   "outputs": [],
   "source": []
  }
 ],
 "metadata": {
  "kernelspec": {
   "display_name": "Python 3 (ipykernel)",
   "language": "python",
   "name": "python3"
  },
  "language_info": {
   "codemirror_mode": {
    "name": "ipython",
    "version": 3
   },
   "file_extension": ".py",
   "mimetype": "text/x-python",
   "name": "python",
   "nbconvert_exporter": "python",
   "pygments_lexer": "ipython3",
   "version": "3.12.2"
  }
 },
 "nbformat": 4,
 "nbformat_minor": 5
}
