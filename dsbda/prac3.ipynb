{
 "cells": [
  {
   "cell_type": "code",
   "execution_count": 1,
   "id": "e64a411e-aa77-4319-9d66-addfd89822e8",
   "metadata": {},
   "outputs": [],
   "source": [
    "import pandas as pd\n",
    "import statistics as st\n",
    "import numpy as np\n",
    "import opendatasets as od"
   ]
  },
  {
   "cell_type": "code",
   "execution_count": 2,
   "id": "ffd3c70a-2e12-4da9-bb14-d9868ee64ca8",
   "metadata": {},
   "outputs": [
    {
     "name": "stdout",
     "output_type": "stream",
     "text": [
      "Please provide your Kaggle credentials to download this dataset. Learn more: http://bit.ly/kaggle-creds\n",
      "Your Kaggle username:"
     ]
    },
    {
     "name": "stdin",
     "output_type": "stream",
     "text": [
      "  cm5i37shoeb\n"
     ]
    },
    {
     "name": "stdout",
     "output_type": "stream",
     "text": [
      "Your Kaggle Key:"
     ]
    },
    {
     "name": "stdin",
     "output_type": "stream",
     "text": [
      "  ········\n"
     ]
    },
    {
     "name": "stdout",
     "output_type": "stream",
     "text": [
      "Dataset URL: https://www.kaggle.com/datasets/uciml/iris\n",
      "Downloading iris.zip to .\\iris\n"
     ]
    },
    {
     "name": "stderr",
     "output_type": "stream",
     "text": [
      "100%|████████████████████████████████████████████████████████████| 3.60k/3.60k [00:00<00:00, 297kB/s]"
     ]
    },
    {
     "name": "stdout",
     "output_type": "stream",
     "text": [
      "\n"
     ]
    },
    {
     "name": "stderr",
     "output_type": "stream",
     "text": [
      "\n"
     ]
    }
   ],
   "source": [
    "od.download(\"https://www.kaggle.com/datasets/uciml/iris\")"
   ]
  },
  {
   "cell_type": "code",
   "execution_count": 3,
   "id": "105b2a72-e239-43b3-b4e8-306370a62dc9",
   "metadata": {},
   "outputs": [],
   "source": [
    "df=pd.read_csv(\"iris/Iris.csv\")"
   ]
  },
  {
   "cell_type": "code",
   "execution_count": 4,
   "id": "6330ed31-b28d-482d-b3e9-650549ee6f80",
   "metadata": {},
   "outputs": [
    {
     "data": {
      "text/html": [
       "<div>\n",
       "<style scoped>\n",
       "    .dataframe tbody tr th:only-of-type {\n",
       "        vertical-align: middle;\n",
       "    }\n",
       "\n",
       "    .dataframe tbody tr th {\n",
       "        vertical-align: top;\n",
       "    }\n",
       "\n",
       "    .dataframe thead th {\n",
       "        text-align: right;\n",
       "    }\n",
       "</style>\n",
       "<table border=\"1\" class=\"dataframe\">\n",
       "  <thead>\n",
       "    <tr style=\"text-align: right;\">\n",
       "      <th></th>\n",
       "      <th>Id</th>\n",
       "      <th>SepalLengthCm</th>\n",
       "      <th>SepalWidthCm</th>\n",
       "      <th>PetalLengthCm</th>\n",
       "      <th>PetalWidthCm</th>\n",
       "      <th>Species</th>\n",
       "    </tr>\n",
       "  </thead>\n",
       "  <tbody>\n",
       "    <tr>\n",
       "      <th>0</th>\n",
       "      <td>1</td>\n",
       "      <td>5.1</td>\n",
       "      <td>3.5</td>\n",
       "      <td>1.4</td>\n",
       "      <td>0.2</td>\n",
       "      <td>Iris-setosa</td>\n",
       "    </tr>\n",
       "    <tr>\n",
       "      <th>1</th>\n",
       "      <td>2</td>\n",
       "      <td>4.9</td>\n",
       "      <td>3.0</td>\n",
       "      <td>1.4</td>\n",
       "      <td>0.2</td>\n",
       "      <td>Iris-setosa</td>\n",
       "    </tr>\n",
       "    <tr>\n",
       "      <th>2</th>\n",
       "      <td>3</td>\n",
       "      <td>4.7</td>\n",
       "      <td>3.2</td>\n",
       "      <td>1.3</td>\n",
       "      <td>0.2</td>\n",
       "      <td>Iris-setosa</td>\n",
       "    </tr>\n",
       "    <tr>\n",
       "      <th>3</th>\n",
       "      <td>4</td>\n",
       "      <td>4.6</td>\n",
       "      <td>3.1</td>\n",
       "      <td>1.5</td>\n",
       "      <td>0.2</td>\n",
       "      <td>Iris-setosa</td>\n",
       "    </tr>\n",
       "    <tr>\n",
       "      <th>4</th>\n",
       "      <td>5</td>\n",
       "      <td>5.0</td>\n",
       "      <td>3.6</td>\n",
       "      <td>1.4</td>\n",
       "      <td>0.2</td>\n",
       "      <td>Iris-setosa</td>\n",
       "    </tr>\n",
       "  </tbody>\n",
       "</table>\n",
       "</div>"
      ],
      "text/plain": [
       "   Id  SepalLengthCm  SepalWidthCm  PetalLengthCm  PetalWidthCm      Species\n",
       "0   1            5.1           3.5            1.4           0.2  Iris-setosa\n",
       "1   2            4.9           3.0            1.4           0.2  Iris-setosa\n",
       "2   3            4.7           3.2            1.3           0.2  Iris-setosa\n",
       "3   4            4.6           3.1            1.5           0.2  Iris-setosa\n",
       "4   5            5.0           3.6            1.4           0.2  Iris-setosa"
      ]
     },
     "execution_count": 4,
     "metadata": {},
     "output_type": "execute_result"
    }
   ],
   "source": [
    "df.head()"
   ]
  },
  {
   "cell_type": "code",
   "execution_count": 5,
   "id": "cc54b56b-d4fb-4194-bc42-f5944d45ef44",
   "metadata": {},
   "outputs": [],
   "source": [
    "summary=df.groupby('Species')['SepalLengthCm'].describe()"
   ]
  },
  {
   "cell_type": "code",
   "execution_count": 6,
   "id": "0210bec0-d47b-4da3-8c72-d6f7e1fff3c8",
   "metadata": {},
   "outputs": [
    {
     "name": "stdout",
     "output_type": "stream",
     "text": [
      "                 count   mean       std  min    25%  50%  75%  max\n",
      "Species                                                           \n",
      "Iris-setosa       50.0  5.006  0.352490  4.3  4.800  5.0  5.2  5.8\n",
      "Iris-versicolor   50.0  5.936  0.516171  4.9  5.600  5.9  6.3  7.0\n",
      "Iris-virginica    50.0  6.588  0.635880  4.9  6.225  6.5  6.9  7.9\n"
     ]
    }
   ],
   "source": [
    "print(summary)"
   ]
  },
  {
   "cell_type": "code",
   "execution_count": 7,
   "id": "3c8709fa-387d-4cbd-ba12-2c6c163c6855",
   "metadata": {},
   "outputs": [],
   "source": [
    "def custom_desc(x):\n",
    "    mode_val=st.mode(x)\n",
    "    median_val=np.median(x)\n",
    "    return pd.Series([x.count(),x.mean(),x.std(),mode_val,median_val,x.min(),x.max()],index=['count','mean','std','mode','median','min','max'])"
   ]
  },
  {
   "cell_type": "code",
   "execution_count": 8,
   "id": "5dad220d-b201-493d-9218-613903f04fcb",
   "metadata": {},
   "outputs": [],
   "source": [
    "summary_with_mean_mode=df.groupby('Species')['SepalLengthCm'].apply(custom_desc)"
   ]
  },
  {
   "cell_type": "code",
   "execution_count": 9,
   "id": "c344c222-2a58-4f27-a17f-5f7bbb9f2534",
   "metadata": {},
   "outputs": [
    {
     "name": "stdout",
     "output_type": "stream",
     "text": [
      "Species                \n",
      "Iris-setosa      count     50.000000\n",
      "                 mean       5.006000\n",
      "                 std        0.352490\n",
      "                 mode       5.100000\n",
      "                 median     5.000000\n",
      "                 min        4.300000\n",
      "                 max        5.800000\n",
      "Iris-versicolor  count     50.000000\n",
      "                 mean       5.936000\n",
      "                 std        0.516171\n",
      "                 mode       5.500000\n",
      "                 median     5.900000\n",
      "                 min        4.900000\n",
      "                 max        7.000000\n",
      "Iris-virginica   count     50.000000\n",
      "                 mean       6.588000\n",
      "                 std        0.635880\n",
      "                 mode       6.300000\n",
      "                 median     6.500000\n",
      "                 min        4.900000\n",
      "                 max        7.900000\n",
      "Name: SepalLengthCm, dtype: float64\n"
     ]
    }
   ],
   "source": [
    "print(summary_with_mean_mode)"
   ]
  },
  {
   "cell_type": "code",
   "execution_count": 10,
   "id": "b781d282-fe8f-4baf-8710-8e9acb644541",
   "metadata": {},
   "outputs": [],
   "source": [
    "mode_summary=df.groupby('Species')['SepalLengthCm'].apply(lambda x:st.mode(x))"
   ]
  },
  {
   "cell_type": "code",
   "execution_count": 11,
   "id": "7caff3a9-471b-49e4-bdfb-085f1ff85c6c",
   "metadata": {},
   "outputs": [
    {
     "name": "stdout",
     "output_type": "stream",
     "text": [
      "Mode :\n",
      "Species\n",
      "Iris-setosa        5.1\n",
      "Iris-versicolor    5.5\n",
      "Iris-virginica     6.3\n",
      "Name: SepalLengthCm, dtype: float64\n"
     ]
    }
   ],
   "source": [
    "print(\"Mode :\")\n",
    "print(mode_summary)"
   ]
  },
  {
   "cell_type": "code",
   "execution_count": 12,
   "id": "e1136a05-a3af-4641-b64a-13122867a3f6",
   "metadata": {},
   "outputs": [],
   "source": [
    "median_summary=df.groupby('Species')['SepalLengthCm'].median()"
   ]
  },
  {
   "cell_type": "code",
   "execution_count": 13,
   "id": "26362ce7-a320-4eab-aece-8ea61639af05",
   "metadata": {},
   "outputs": [
    {
     "name": "stdout",
     "output_type": "stream",
     "text": [
      "median \n",
      "Species\n",
      "Iris-setosa        5.0\n",
      "Iris-versicolor    5.9\n",
      "Iris-virginica     6.5\n",
      "Name: SepalLengthCm, dtype: float64\n"
     ]
    }
   ],
   "source": [
    "print(\"median \")\n",
    "print(median_summary)"
   ]
  },
  {
   "cell_type": "code",
   "execution_count": 14,
   "id": "eba3e7c4-9a6e-4c7e-9ad9-1628386ef91f",
   "metadata": {},
   "outputs": [],
   "source": [
    "mean_summary=df.groupby('Species')['SepalLengthCm'].mean()"
   ]
  },
  {
   "cell_type": "code",
   "execution_count": 15,
   "id": "736c0a93-c147-472d-8eb5-39ac1512106c",
   "metadata": {},
   "outputs": [
    {
     "name": "stdout",
     "output_type": "stream",
     "text": [
      "mean\n",
      "Species\n",
      "Iris-setosa        5.006\n",
      "Iris-versicolor    5.936\n",
      "Iris-virginica     6.588\n",
      "Name: SepalLengthCm, dtype: float64\n"
     ]
    }
   ],
   "source": [
    "print(\"mean\")\n",
    "print(mean_summary)"
   ]
  },
  {
   "cell_type": "code",
   "execution_count": 16,
   "id": "7d5f8df8-0878-4e28-9d84-ca5ab452d72f",
   "metadata": {},
   "outputs": [],
   "source": [
    "Species_numeric_value=df.groupby('Species').size().tolist()"
   ]
  },
  {
   "cell_type": "code",
   "execution_count": 17,
   "id": "99ec43c4-7763-4b8d-90c9-156d8d07994a",
   "metadata": {},
   "outputs": [
    {
     "name": "stdout",
     "output_type": "stream",
     "text": [
      "[50, 50, 50]\n"
     ]
    }
   ],
   "source": [
    "print(Species_numeric_value)"
   ]
  },
  {
   "cell_type": "code",
   "execution_count": 18,
   "id": "d3b55fec-2a93-4be9-95b2-ccd07b025190",
   "metadata": {},
   "outputs": [],
   "source": [
    "Species_stats=df.groupby('Species').describe()"
   ]
  },
  {
   "cell_type": "code",
   "execution_count": 19,
   "id": "a2f987ed-99c9-4012-81b2-4ec1989dda68",
   "metadata": {},
   "outputs": [
    {
     "name": "stdout",
     "output_type": "stream",
     "text": [
      "                   Id                                                        \\\n",
      "                count   mean       std    min     25%    50%     75%    max   \n",
      "Species                                                                       \n",
      "Iris-setosa      50.0   25.5  14.57738    1.0   13.25   25.5   37.75   50.0   \n",
      "Iris-versicolor  50.0   75.5  14.57738   51.0   63.25   75.5   87.75  100.0   \n",
      "Iris-virginica   50.0  125.5  14.57738  101.0  113.25  125.5  137.75  150.0   \n",
      "\n",
      "                SepalLengthCm         ... PetalLengthCm      PetalWidthCm  \\\n",
      "                        count   mean  ...           75%  max        count   \n",
      "Species                               ...                                   \n",
      "Iris-setosa              50.0  5.006  ...         1.575  1.9         50.0   \n",
      "Iris-versicolor          50.0  5.936  ...         4.600  5.1         50.0   \n",
      "Iris-virginica           50.0  6.588  ...         5.875  6.9         50.0   \n",
      "\n",
      "                                                           \n",
      "                  mean       std  min  25%  50%  75%  max  \n",
      "Species                                                    \n",
      "Iris-setosa      0.244  0.107210  0.1  0.2  0.2  0.3  0.6  \n",
      "Iris-versicolor  1.326  0.197753  1.0  1.2  1.3  1.5  1.8  \n",
      "Iris-virginica   2.026  0.274650  1.4  1.8  2.0  2.3  2.5  \n",
      "\n",
      "[3 rows x 40 columns]\n"
     ]
    }
   ],
   "source": [
    "print(Species_stats)"
   ]
  },
  {
   "cell_type": "code",
   "execution_count": 20,
   "id": "42e695e3-4a54-487a-8fe5-4b3002031cd6",
   "metadata": {},
   "outputs": [],
   "source": [
    "setosa_stats=df[df['Species']=='Iris-setosa'].describe()"
   ]
  },
  {
   "cell_type": "code",
   "execution_count": 21,
   "id": "88179405-f0b5-4f5d-8a94-af412a6d6873",
   "metadata": {},
   "outputs": [
    {
     "name": "stdout",
     "output_type": "stream",
     "text": [
      "             Id  SepalLengthCm  SepalWidthCm  PetalLengthCm  PetalWidthCm\n",
      "count  50.00000       50.00000     50.000000      50.000000      50.00000\n",
      "mean   25.50000        5.00600      3.418000       1.464000       0.24400\n",
      "std    14.57738        0.35249      0.381024       0.173511       0.10721\n",
      "min     1.00000        4.30000      2.300000       1.000000       0.10000\n",
      "25%    13.25000        4.80000      3.125000       1.400000       0.20000\n",
      "50%    25.50000        5.00000      3.400000       1.500000       0.20000\n",
      "75%    37.75000        5.20000      3.675000       1.575000       0.30000\n",
      "max    50.00000        5.80000      4.400000       1.900000       0.60000\n"
     ]
    }
   ],
   "source": [
    "print(setosa_stats)"
   ]
  },
  {
   "cell_type": "markdown",
   "id": "56cdcd8e-4250-49d5-9cf2-704502dfa446",
   "metadata": {},
   "source": []
  },
  {
   "cell_type": "raw",
   "id": "61926a11-c68c-4dfc-9a64-cab3dab07608",
   "metadata": {},
   "source": []
  }
 ],
 "metadata": {
  "kernelspec": {
   "display_name": "Python 3 (ipykernel)",
   "language": "python",
   "name": "python3"
  },
  "language_info": {
   "codemirror_mode": {
    "name": "ipython",
    "version": 3
   },
   "file_extension": ".py",
   "mimetype": "text/x-python",
   "name": "python",
   "nbconvert_exporter": "python",
   "pygments_lexer": "ipython3",
   "version": "3.12.2"
  }
 },
 "nbformat": 4,
 "nbformat_minor": 5
}
